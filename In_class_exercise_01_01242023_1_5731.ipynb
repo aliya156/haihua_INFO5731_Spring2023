{
  "cells": [
    {
      "cell_type": "markdown",
      "metadata": {
        "id": "view-in-github",
        "colab_type": "text"
      },
      "source": [
        "<a href=\"https://colab.research.google.com/github/aliya156/haihua_INFO5731_Spring2023/blob/main/In_class_exercise_01_01242023_1_5731.ipynb\" target=\"_parent\"><img src=\"https://colab.research.google.com/assets/colab-badge.svg\" alt=\"Open In Colab\"/></a>"
      ]
    },
    {
      "cell_type": "markdown",
      "metadata": {
        "id": "DymRJbxDBCnf"
      },
      "source": [
        "# **The first In-class-exercise (01/24/2023, 40 points in total)**"
      ]
    },
    {
      "cell_type": "markdown",
      "metadata": {
        "id": "03jb4GZsBkBS"
      },
      "source": [
        "**bold text**(1) Write a Python program to calculate the length of a string. (4 points)"
      ]
    },
    {
      "cell_type": "code",
      "execution_count": null,
      "metadata": {
        "colab": {
          "base_uri": "https://localhost:8080/"
        },
        "id": "YaGLbSHHB8Ej",
        "outputId": "18ec518a-0a2e-4e34-d60a-8ea67a60cfe8"
      },
      "outputs": [
        {
          "output_type": "stream",
          "name": "stdout",
          "text": [
            "15\n"
          ]
        }
      ],
      "source": [
        "# write your answer here\n",
        "def Len(string):\n",
        "    return sum( 1 for i in string);\n",
        " \n",
        "string = 'python language'\n",
        "print(Len(string))"
      ]
    },
    {
      "cell_type": "markdown",
      "metadata": {
        "id": "jJDe71iLB616"
      },
      "source": [
        "(2) Write a Python program to count the number of characters in a string. (4 points)\n",
        "\n",
        "Sample String : 'google.com‘, \n",
        "\n",
        "Expected Result : {'o': 3, 'g': 2, '.': 1, 'e': 1, 'l': 1, 'm': 1, 'c': 1}"
      ]
    },
    {
      "cell_type": "code",
      "source": [
        "from collections import Counter\n",
        " \n",
        "# initializing string\n",
        "String = \"google.com\"\n",
        " \n",
        "# using collections.Counter() to get\n",
        "# count of each element in string\n",
        "result = Counter(String)\n",
        " \n",
        "# printing result\n",
        "print(\"Count of all characters in GeeksforGeeks is :\\n \"\n",
        "      + str(result))"
      ],
      "metadata": {
        "colab": {
          "base_uri": "https://localhost:8080/"
        },
        "id": "YSou3uBe2OKr",
        "outputId": "0cfbc9ac-7e10-4f9d-c31b-3211f1b9420a"
      },
      "execution_count": null,
      "outputs": [
        {
          "output_type": "stream",
          "name": "stdout",
          "text": [
            "Count of all characters in GeeksforGeeks is :\n",
            " Counter({'o': 3, 'g': 2, 'l': 1, 'e': 1, '.': 1, 'c': 1, 'm': 1})\n"
          ]
        }
      ]
    },
    {
      "cell_type": "markdown",
      "metadata": {
        "id": "55W9AMdXCSpV"
      },
      "source": [
        "**bold text**(3) Write a Python program to sum all the items in a list. (4 points)"
      ]
    },
    {
      "cell_type": "code",
      "execution_count": null,
      "metadata": {
        "colab": {
          "base_uri": "https://localhost:8080/"
        },
        "id": "I57NXsauCec2",
        "outputId": "84d59397-757e-4077-ca07-cd1275dd415c"
      },
      "outputs": [
        {
          "output_type": "execute_result",
          "data": {
            "text/plain": [
              "45"
            ]
          },
          "metadata": {},
          "execution_count": 14
        }
      ],
      "source": [
        "# write your answer here\n",
        "my_list = range(1,10)\n",
        "# my_list = [1,2,3,4,5,6,7,8,9]\n",
        "sum(my_list)"
      ]
    },
    {
      "cell_type": "markdown",
      "metadata": {
        "id": "4ulBZ6yhCi9F"
      },
      "source": [
        "(4) Write a Python program to get a string from a given string where all occurrences of its first char have been changed to '\\$', except the first char itself. (4 points)\n",
        "\n",
        "Sample String : 'restart‘, \n",
        "\n",
        "Expected Result : 'resta\\$t'"
      ]
    },
    {
      "cell_type": "code",
      "execution_count": null,
      "metadata": {
        "colab": {
          "base_uri": "https://localhost:8080/"
        },
        "id": "Fj0XhwbBCw2o",
        "outputId": "282002e1-953f-4de4-d3e0-0b4e6faa096b"
      },
      "outputs": [
        {
          "output_type": "stream",
          "name": "stdout",
          "text": [
            "sam$ung\n"
          ]
        }
      ],
      "source": [
        "# write your answer here\n",
        "def replace_char(str):  \n",
        "  char = str[0]  \n",
        "  str = str.replace(char, '$')  \n",
        "  str = char + str[1:]  \n",
        "  \n",
        "  return str  \n",
        "  \n",
        "print(replace_char('samsung')) "
      ]
    },
    {
      "cell_type": "markdown",
      "metadata": {
        "id": "_bIP7s1MCzue"
      },
      "source": [
        "(5) Write a program with python which could accept two parameter a and b to calculate and output the result of S, where \n",
        "\n",
        "$\\ S=3.14*(1+a/b)^3$ (4 points)\n",
        "\n"
      ]
    },
    {
      "cell_type": "code",
      "execution_count": null,
      "metadata": {
        "id": "w79QilHXD3Mg",
        "colab": {
          "base_uri": "https://localhost:8080/"
        },
        "outputId": "4c7f3ee2-ad3f-464c-a1de-6e24c803d1d2"
      },
      "outputs": [
        {
          "output_type": "stream",
          "name": "stdout",
          "text": [
            "Enter a number :2\n",
            "Enter a number :3\n",
            "The result : 14.537037037037033\n"
          ]
        }
      ],
      "source": [
        "# write your answer here\n",
        "a=int(input(\"Enter a number :\"))\n",
        "b=int(input(\"Enter a number :\"))\n",
        "\n",
        "s=3.14*((1+(a/b))**3)\n",
        "\n",
        "print('The result :', s)\n"
      ]
    },
    {
      "cell_type": "markdown",
      "metadata": {
        "id": "xCa2bK9aD4Q3"
      },
      "source": [
        "(6) Write a Python program to concatenate following dictionaries to create a new one. (4 points)\n",
        "\n",
        "Sample Dictionary : dic1={1:10, 2:20}, dic2={3:30, 4:40}, dic3={5:50,6:60}, \n",
        "\n",
        "Expected Result : {1: 10, 2: 20, 3: 30, 4: 40, 5: 50, 6: 60}\n"
      ]
    },
    {
      "cell_type": "code",
      "execution_count": null,
      "metadata": {
        "id": "_z4aLqAbEET1",
        "colab": {
          "base_uri": "https://localhost:8080/"
        },
        "outputId": "84add975-a7fa-4a8b-fb7f-54bf8117bc4e"
      },
      "outputs": [
        {
          "output_type": "stream",
          "name": "stdout",
          "text": [
            "{1: 10, 2: 20, 3: 30, 4: 40, 5: 50, 6: 60}\n"
          ]
        }
      ],
      "source": [
        "# write your answer here\n",
        "dic1={1:10, 2:20}\n",
        "dic2={3:30, 4:40}\n",
        "dic3={5:50,6:60}\n",
        "dic4={}\n",
        "for i in (dic1, dic2, dic3) : dic4.update(i)\n",
        "print(dic4)\n"
      ]
    },
    {
      "cell_type": "markdown",
      "metadata": {
        "id": "0v48Vqa7FrQh"
      },
      "source": [
        "(7) Write a Python program to check whether an element exists within a tuple. (4 points)"
      ]
    },
    {
      "cell_type": "code",
      "execution_count": null,
      "metadata": {
        "id": "7WEmgq-DF2P1",
        "colab": {
          "base_uri": "https://localhost:8080/"
        },
        "outputId": "b59ff7ba-c780-48c0-ac6c-459ab2de8122"
      },
      "outputs": [
        {
          "output_type": "stream",
          "name": "stdout",
          "text": [
            "['yes']\n"
          ]
        }
      ],
      "source": [
        "# write your answer here\n",
        "tuple = (10, 4, 5, 6, 8)\n",
        "element = 6\n",
        "x = [i for i in tuple if i == element]\n",
        "print([\"yes\" if x else \"no\"])\n"
      ]
    },
    {
      "cell_type": "markdown",
      "metadata": {
        "id": "vD5PYLMuGga_"
      },
      "source": [
        "**bold text**# (8) Write a Python program to find maximum and the minimum value in a set. (4 points)"
      ]
    },
    {
      "cell_type": "code",
      "execution_count": null,
      "metadata": {
        "id": "t0D5kdJUGjjw",
        "colab": {
          "base_uri": "https://localhost:8080/"
        },
        "outputId": "1b16b3de-30fe-45c2-ad83-975c6e999149"
      },
      "outputs": [
        {
          "output_type": "stream",
          "name": "stdout",
          "text": [
            "Maximum number : 100\n",
            "Minimum number : 4\n"
          ]
        }
      ],
      "source": [
        "# write your answer here\n",
        "set={4,10,7,22,20,30,100}\n",
        "print(\"Maximum number :\", max(set))\n",
        "print(\"Minimum number :\", min(set))\n",
        "\n"
      ]
    },
    {
      "cell_type": "markdown",
      "metadata": {
        "id": "uHkd-y5VhVWC"
      },
      "source": [
        "(9) Write a Python program to randomly divide the students in this class into six groups for term projects, each group should have at least 4 students but no more than 6 students (including 6). Here is the students list: (4 points)\n",
        "\n",
        "studnet_list = ['ja0964','sa1198','sb1357','vb0218','sc1229','kg0569','kg0470','sg1297','bg0320','fh0141','jl1252','sk1386',\n",
        "           'ak0956','sk1390','sk1458','sk1313','ak0934','vm0377','nm0618','sm1640','sm1907','gn0108','pr0353','dr0609','ms1500','aos0040','ds0814', 'av0659','nv0234','hy0232']"
      ]
    },
    {
      "cell_type": "code",
      "execution_count": null,
      "metadata": {
        "id": "3iGbmcOBhTwy",
        "colab": {
          "base_uri": "https://localhost:8080/"
        },
        "outputId": "81a8a5bf-90b0-4f66-f745-8e21cb325e9e"
      },
      "outputs": [
        {
          "output_type": "stream",
          "name": "stdout",
          "text": [
            "Initial list is:\n",
            " ['vmb0067', 'pc0353', 'snd0097', 'yye0005', 'sg0940', 'bk0301', 'rak0120', 'rrk0058', 'spk0057', 'vl0135', 'nm0547', 'pn0159', 'msp0174', 'dd0420', 'ds0761', 'rs0850', 'ss1995', 'at0739', 'at0768', 'mv0299', 'tv0119', 'dy0091']\n",
            "\n",
            "Split length list: \n",
            " [5, 4, 5, 4, 4]\n",
            "\n",
            "List after splitting\n",
            "\n"
          ]
        }
      ],
      "source": [
        "import random\n",
        "from itertools import islice\n",
        "#input\n",
        "student_list = ['vmb0067','pc0353','snd0097','yye0005','sg0940','bk0301','rak0120','rrk0058','spk0057','vl0135','nm0547','pn0159', 'msp0174','dd0420','ds0761','rs0850','ss1995','at0739','at0768','mv0299','tv0119','dy0091']\n",
        "#this is to split the input list with each chunk in range of 3 and 5\n",
        "length_to_split = []\n",
        "\n",
        "#first assigning split length list with range of 3 and 5\n",
        "for i in range(5):\n",
        "  length_to_split.append(random.randint(3,5))\n",
        "\n",
        "#if the split length list is not equal to length of input list\n",
        "for i in range(5):\n",
        "  if sum(length_to_split)!=len(student_list):\n",
        "    if length_to_split[i]==3 or length_to_split[i]==4:\n",
        "      length_to_split[i] = length_to_split[i] + 1\n",
        "    else:\n",
        "        break\n",
        "\n",
        "#this is the operation to split the list into chunk with given\n",
        "Input = iter(student_list)\n",
        "Output = [list(islice(Input, elem)) for elem in length_to_split]\n",
        "\n",
        "print(\"Initial list is:\\n\", student_list )\n",
        "print(\"\\nSplit length list: \\n\", length_to_split)\n",
        "print(\"\\nList after splitting\\n\")"
      ]
    },
    {
      "cell_type": "markdown",
      "metadata": {
        "id": "yUJvXpF8c_CP"
      },
      "source": [
        "(10) Write a Python program to find the duplicate elements in a given array of integers. Return -1 If there are no such elements. (4 points)"
      ]
    },
    {
      "cell_type": "code",
      "execution_count": null,
      "metadata": {
        "id": "MgPDaPItc_CP",
        "colab": {
          "base_uri": "https://localhost:8080/"
        },
        "outputId": "a19b0e60-8220-4d3c-b067-fcb95a32bb1c"
      },
      "outputs": [
        {
          "output_type": "stream",
          "name": "stdout",
          "text": [
            "4\n",
            "-1\n",
            "1\n"
          ]
        }
      ],
      "source": [
        "# write your answer here\n",
        "def duplicate(nums):\n",
        "    number_set = set()\n",
        "    no_duplicate = -1\n",
        "\n",
        "    for i in range(len(nums)):\n",
        "\n",
        "        if nums[i] in number_set:\n",
        "            return nums[i]\n",
        "        else:\n",
        "            number_set.add(nums[i])\n",
        "\n",
        "    return no_duplicate\n",
        "\n",
        "print(duplicate([1, 2, 3, 4, 4, 5]))\n",
        "print(duplicate([1, 2, 3, 4]))\n",
        "print(duplicate([1, 1, 2, 3, 3, 2, 2]))"
      ]
    },
    {
      "cell_type": "markdown",
      "metadata": {
        "id": "2AcX9c63c_CQ"
      },
      "source": [
        "**bold text**(11) Write a Python program to select all the Sundays of a specified year. (4 extra points)"
      ]
    },
    {
      "cell_type": "code",
      "execution_count": null,
      "metadata": {
        "id": "EgtpkeAfc_CQ",
        "colab": {
          "base_uri": "https://localhost:8080/"
        },
        "outputId": "6f262693-6395-4293-c537-50c988964671"
      },
      "outputs": [
        {
          "output_type": "stream",
          "name": "stdout",
          "text": [
            "2023-01-01\n",
            "2023-01-08\n",
            "2023-01-15\n",
            "2023-01-22\n",
            "2023-01-29\n",
            "2023-02-05\n",
            "2023-02-12\n",
            "2023-02-19\n",
            "2023-02-26\n",
            "2023-03-05\n",
            "2023-03-12\n",
            "2023-03-19\n",
            "2023-03-26\n",
            "2023-04-02\n",
            "2023-04-09\n",
            "2023-04-16\n",
            "2023-04-23\n",
            "2023-04-30\n",
            "2023-05-07\n",
            "2023-05-14\n",
            "2023-05-21\n",
            "2023-05-28\n",
            "2023-06-04\n",
            "2023-06-11\n",
            "2023-06-18\n",
            "2023-06-25\n",
            "2023-07-02\n",
            "2023-07-09\n",
            "2023-07-16\n",
            "2023-07-23\n",
            "2023-07-30\n",
            "2023-08-06\n",
            "2023-08-13\n",
            "2023-08-20\n",
            "2023-08-27\n",
            "2023-09-03\n",
            "2023-09-10\n",
            "2023-09-17\n",
            "2023-09-24\n",
            "2023-10-01\n",
            "2023-10-08\n",
            "2023-10-15\n",
            "2023-10-22\n",
            "2023-10-29\n",
            "2023-11-05\n",
            "2023-11-12\n",
            "2023-11-19\n",
            "2023-11-26\n",
            "2023-12-03\n",
            "2023-12-10\n",
            "2023-12-17\n",
            "2023-12-24\n",
            "2023-12-31\n"
          ]
        }
      ],
      "source": [
        "# write your answer here\n",
        "from datetime import date, timedelta\n",
        "\n",
        "def sundays(year):\n",
        "       dt = date(year, 1, 1)      \n",
        "       dt += timedelta(days = 6 - dt.weekday())  \n",
        "       while dt.year == year:\n",
        "          yield dt\n",
        "          dt += timedelta(days = 7)\n",
        "          \n",
        "for x in sundays(2023):\n",
        "   print(x)\n",
        "   "
      ]
    },
    {
      "cell_type": "code",
      "source": [],
      "metadata": {
        "id": "-sOVDwg1dC9B"
      },
      "execution_count": null,
      "outputs": []
    }
  ],
  "metadata": {
    "colab": {
      "provenance": [],
      "include_colab_link": true
    },
    "kernelspec": {
      "display_name": "Python 3 (ipykernel)",
      "language": "python",
      "name": "python3"
    },
    "language_info": {
      "codemirror_mode": {
        "name": "ipython",
        "version": 3
      },
      "file_extension": ".py",
      "mimetype": "text/x-python",
      "name": "python",
      "nbconvert_exporter": "python",
      "pygments_lexer": "ipython3",
      "version": "3.9.12"
    }
  },
  "nbformat": 4,
  "nbformat_minor": 0
}